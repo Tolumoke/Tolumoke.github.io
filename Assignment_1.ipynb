{
  "nbformat": 4,
  "nbformat_minor": 0,
  "metadata": {
    "colab": {
      "provenance": [],
      "include_colab_link": true
    },
    "kernelspec": {
      "name": "python3",
      "display_name": "Python 3"
    },
    "language_info": {
      "name": "python"
    }
  },
  "cells": [
    {
      "cell_type": "markdown",
      "metadata": {
        "id": "view-in-github",
        "colab_type": "text"
      },
      "source": [
        "<a href=\"https://colab.research.google.com/github/Tolumoke/Tolumoke.github.io/blob/main/Assignment_1.ipynb\" target=\"_parent\"><img src=\"https://colab.research.google.com/assets/colab-badge.svg\" alt=\"Open In Colab\"/></a>"
      ]
    },
    {
      "cell_type": "markdown",
      "source": [
        "### Python Bookstore Inventory Management Assignment\n",
        "\n",
        "#### Background:\n",
        "Imagine you are the owner of a small but popular independent bookstore. To keep track of your inventory, you need an efficient system that allows you to manage and update the books in stock easily. As a budding Python programmer, you decide to create a set of functions that will help you automate this process. This assignment will help you apply your Python skills to a real-world scenario, enabling you to manage your bookstore inventory effectively.\n",
        "\n",
        "#### Introduction:\n",
        "In this assignment, you will create several functions to manage a bookstore inventory system. These functions will help you add, remove, and update books, as well as retrieve information about books and calculate the total value of your inventory. You will use a provided inventory list to implement and test your functions.\n",
        "\n",
        "#### Provided Inventory:\n",
        "Below is the existing inventory of books in your bookstore. Each book is represented as a dictionary with specific attributes such as title, author, year, genre, price, and stock."
      ],
      "metadata": {
        "id": "vLcJfKE85Iqu"
      }
    },
    {
      "cell_type": "markdown",
      "source": [
        "**Submission:**\n",
        "* Submit a Notebook file (Go to File > Download > Download .ipynb)  containing your function definitions and test cases.\n",
        "\n",
        "* Include comments in your code to explain your logic.\n",
        "\n",
        "* Ensure your code is clean and well-documented."
      ],
      "metadata": {
        "id": "u-DGE7nBE06m"
      }
    },
    {
      "cell_type": "code",
      "source": [
        "# Existing inventory\n",
        "inventory = {\n",
        "    'To Kill a Mockingbird': {'author': 'Harper Lee', 'year': 1960, 'genre': 'Fiction', 'price': 18.99, 'stock': 5},\n",
        "    '1984': {'author': 'George Orwell', 'year': 1949, 'genre': 'Dystopian', 'price': 14.99, 'stock': 2},\n",
        "    'The Great Gatsby': {'author': 'F. Scott Fitzgerald', 'year': 1925, 'genre': 'Fiction', 'price': 10.99, 'stock': 7},\n",
        "    'Brave New World': {'author': 'Aldous Huxley', 'year': 1932, 'genre': 'Science Fiction', 'price': 15.99, 'stock': 3},\n",
        "    'Harry Potter and the Sorcerer\\'s Stone': {'author': 'J.K. Rowling', 'year': 1997, 'genre': 'Fantasy', 'price': 12.99, 'stock': 10},\n",
        "    'The Da Vinci Code': {'author': 'Dan Brown', 'year': 2003, 'genre': 'Mystery', 'price': 19.99, 'stock': 4},\n",
        "    'Pride and Prejudice': {'author': 'Jane Austen', 'year': 1813, 'genre': 'Romance', 'price': 9.99, 'stock': 6},\n",
        "    'The Book Thief': {'author': 'Markus Zusak', 'year': 2005, 'genre': 'Historical Fiction', 'price': 16.99, 'stock': 5},\n",
        "    'Steve Jobs': {'author': 'Walter Isaacson', 'year': 2011, 'genre': 'Biography', 'price': 22.99, 'stock': 8},\n",
        "    'The Power of Habit': {'author': 'Charles Duhigg', 'year': 2012, 'genre': 'Self-Help', 'price': 13.99, 'stock': 7}\n",
        "}"
      ],
      "metadata": {
        "id": "rTms3aW55JCP"
      },
      "execution_count": 57,
      "outputs": []
    },
    {
      "cell_type": "code",
      "source": [
        "# Example of accessing a book's details\n",
        "book_title = '1984'\n",
        "print(inventory[book_title])"
      ],
      "metadata": {
        "id": "NlF6hsHx5N3_",
        "colab": {
          "base_uri": "https://localhost:8080/"
        },
        "outputId": "36217241-418e-4ded-c2ee-58d87debfe89"
      },
      "execution_count": 58,
      "outputs": [
        {
          "output_type": "stream",
          "name": "stdout",
          "text": [
            "{'author': 'George Orwell', 'year': 1949, 'genre': 'Dystopian', 'price': 14.99, 'stock': 2}\n"
          ]
        }
      ]
    },
    {
      "cell_type": "markdown",
      "source": [
        "## Function Definitions :"
      ],
      "metadata": {
        "id": "8Buzd_9874xW"
      }
    },
    {
      "cell_type": "markdown",
      "source": [
        "### Add book function\n",
        "   - **Function**: `add_book(inventory, title, details)`\n",
        "   - **Description**: Adds a new book to the inventory.\n",
        "   - **Arguments**:\n",
        "     - `inventory`: A dictionary representing the existing inventory.\n",
        "     - `title`: A string representing the title of the book to be added.\n",
        "     - `details`: A dictionary containing the details of the book (author, year, genre, price, stock).\n",
        "   - **Return**: None\n",
        "   - **Example**:\n",
        "     ```python\n",
        "     new_book_details = {'author': 'J.D. Salinger', 'year': 1951, 'genre': 'Fiction', 'price': 13.99, 'stock': 5}\n",
        "     add_book(inventory, 'The Catcher in the Rye', new_book_details)\n",
        "     ```\n",
        "\n",
        "The test adds a new book, \"The Catcher in the Rye,\" and prints its details to verify it has been added correctly."
      ],
      "metadata": {
        "id": "8gJyLsRFEHQn"
      }
    },
    {
      "cell_type": "code",
      "source": [
        "def add_book(inventory, title, details):\n",
        "    \"\"\"\n",
        "    Adds a new book to the inventory.\n",
        "\n",
        "    Parameters:\n",
        "    inventory (dict): The existing inventory dictionary.\n",
        "    title (str): The title of the book to be added.\n",
        "    details (dict): A dictionary containing the book details (author, year, genre, price, stock).\n",
        "\n",
        "    Returns:\n",
        "    None\n",
        "    \"\"\"\n",
        "    # Write code here\n",
        "def add_book(inventory, title, details):\n",
        "  if title in inventory:                                         # This statement checks throught all the titles in the inventory to confirm whether the book in question already exists in the inventory\n",
        "    print(f\"{title} already in inventory\")\n",
        "  else:\n",
        "    inventory[title] = details                                  # This is a critical line of code that instructs the program to match the dictionary key(title) with the values(details)\n",
        "    print(f\"{title} has been added successfully\")\n"
      ],
      "metadata": {
        "id": "AwO-zOu2DH9G"
      },
      "execution_count": 59,
      "outputs": []
    },
    {
      "cell_type": "code",
      "source": [
        "# Test for add_book\n",
        "new_book_details = {'author': 'J.D. Salinger', 'year': 1951, 'genre': 'Fiction', 'price': 13.99, 'stock': 5}\n",
        "add_book(inventory, 'The Catcher in the Rye', new_book_details)\n",
        "print(inventory['The Catcher in the Rye'])  # Should print the details of the new book\n"
      ],
      "metadata": {
        "id": "cjgluiFRDwo_",
        "colab": {
          "base_uri": "https://localhost:8080/"
        },
        "outputId": "932d4f50-f7ae-4b57-e666-5524b7b3fd47"
      },
      "execution_count": 60,
      "outputs": [
        {
          "output_type": "stream",
          "name": "stdout",
          "text": [
            "The Catcher in the Rye has been added successfully\n",
            "{'author': 'J.D. Salinger', 'year': 1951, 'genre': 'Fiction', 'price': 13.99, 'stock': 5}\n"
          ]
        }
      ]
    },
    {
      "cell_type": "markdown",
      "source": [
        "### Remove book function\n",
        "- **Function**: `remove_book(inventory, title)`\n",
        "   - **Description**: Removes a book by its title from the inventory.\n",
        "   - **Arguments**:\n",
        "     - `inventory`: A dictionary representing the existing inventory.\n",
        "     - `title`: A string representing the title of the book to be removed.\n",
        "   - **Return**: `True` if the book was removed, `False` otherwise\n",
        "   - **Example**:\n",
        "     ```python\n",
        "     result = remove_book(inventory, '1984')\n",
        "     ```\n",
        "\n",
        "The test removes the book \"1984\" and verifies the result is True and that \"1984\" no longer exists in the inventory."
      ],
      "metadata": {
        "id": "54RVPGBUEJ-O"
      }
    },
    {
      "cell_type": "code",
      "source": [
        "def remove_book(inventory, title):\n",
        "    \"\"\"\n",
        "    Removes a book by its title from the inventory.\n",
        "\n",
        "    Parameters:\n",
        "    inventory (dict): The existing inventory dictionary.\n",
        "    title (str): The title of the book to be removed.\n",
        "\n",
        "    Returns:\n",
        "    bool: True if the book was removed, False otherwise.\n",
        "    \"\"\"\n",
        "    # Write code here\n",
        "def remove_book(inventory, title):\n",
        "  if title in inventory:\n",
        "    del inventory[title]                              # This line of code instructs the function to delete an existing book in the inventory by using the in-built function called \"del\"\n",
        "    return True\n",
        "  else:\n",
        "    return False\n"
      ],
      "metadata": {
        "id": "WErG7GgADPBW"
      },
      "execution_count": 61,
      "outputs": []
    },
    {
      "cell_type": "code",
      "source": [
        "# Test for remove_book\n",
        "result = remove_book(inventory, '1984')\n",
        "print(result)  # Should print True\n",
        "print('1984' in inventory)  # Should print False"
      ],
      "metadata": {
        "id": "XelL4k5lEA-n",
        "colab": {
          "base_uri": "https://localhost:8080/"
        },
        "outputId": "2e3eec57-6f2d-4e08-cf37-38ec8a965736"
      },
      "execution_count": 62,
      "outputs": [
        {
          "output_type": "stream",
          "name": "stdout",
          "text": [
            "True\n",
            "False\n"
          ]
        }
      ]
    },
    {
      "cell_type": "markdown",
      "source": [
        "### Update stock function\n",
        "\n",
        "   - **Function**: `update_stock(inventory, title, new_stock)`\n",
        "   - **Description**: Updates the stock quantity of a specified book.\n",
        "   - **Arguments**:\n",
        "     - `inventory`: A dictionary representing the existing inventory.\n",
        "     - `title`: A string representing the title of the book to update.\n",
        "     - `new_stock`: An integer representing the new stock quantity.\n",
        "   - **Return**: `True` if the stock was updated, `False` otherwise\n",
        "   - **Example**:\n",
        "     ```python\n",
        "     result = update_stock(inventory, 'The Great Gatsby', 10)\n",
        "     ```\n",
        "\n",
        "\n",
        "The test updates the stock of \"The Great Gatsby\" to 10 and verifies the result is True and the stock has been updated correctly.\n"
      ],
      "metadata": {
        "id": "9ILAfW-zEPpR"
      }
    },
    {
      "cell_type": "code",
      "source": [
        "def update_stock(inventory, title, new_stock):\n",
        "    \"\"\"\n",
        "    Updates the stock quantity of a specified book.\n",
        "\n",
        "    Parameters:\n",
        "    inventory (dict): The existing inventory dictionary.\n",
        "    title (str): The title of the book to update.\n",
        "    new_stock (int): The new stock quantity.\n",
        "\n",
        "    Returns:\n",
        "    bool: True if the stock was updated, False otherwise.\n",
        "    \"\"\"\n",
        "    # Write code here\n",
        "def update_stock(inventory, title, new_stock):\n",
        "  if title in inventory:\n",
        "    inventory[title]['stock'] = new_stock                             # This line of code uses the dictionary key (title) to update the quantity of such book that remains in stock\n",
        "    return True\n",
        "  else:\n",
        "    return False"
      ],
      "metadata": {
        "id": "7XJJpzi1DYpu"
      },
      "execution_count": 63,
      "outputs": []
    },
    {
      "cell_type": "code",
      "source": [
        "# Test for update_stock\n",
        "result = update_stock(inventory, 'The Great Gatsby', 10)\n",
        "print(result)  # Should print True\n",
        "print(inventory['The Great Gatsby']['stock'])  # Should print 10"
      ],
      "metadata": {
        "id": "JDDAJ_3NESe-",
        "colab": {
          "base_uri": "https://localhost:8080/"
        },
        "outputId": "cfbd05ee-6e3c-4dfc-909d-fc7bf2ca43bd"
      },
      "execution_count": 64,
      "outputs": [
        {
          "output_type": "stream",
          "name": "stdout",
          "text": [
            "True\n",
            "10\n"
          ]
        }
      ]
    },
    {
      "cell_type": "markdown",
      "source": [
        "### Find books by author function\n",
        "\n",
        "- **Function**: `find_books_by_author(inventory, author)`\n",
        "   - **Description**: Finds all books by a specific author.\n",
        "   - **Arguments**:\n",
        "     - `inventory`: A dictionary representing the existing inventory.\n",
        "     - `author`: A string representing the author's name.\n",
        "   - **Return**: A list of dictionaries containing books by the specified author\n",
        "   - **Example**:\n",
        "     ```python\n",
        "     books_by_author = find_books_by_author(inventory, 'George Orwell')\n",
        "     ```\n",
        "\n",
        "\n",
        "The test finds books by \"George Orwell\" and prints the result. Since \"1984\" was removed, it should return an empty list."
      ],
      "metadata": {
        "id": "lz0sJWtOEU5G"
      }
    },
    {
      "cell_type": "code",
      "source": [
        "def find_books_by_author(inventory, author):\n",
        "    \"\"\"\n",
        "    Finds all books by a specific author.\n",
        "\n",
        "    Parameters:\n",
        "    inventory (dict): The existing inventory dictionary.\n",
        "    author (str): The author's name.\n",
        "\n",
        "    Returns:\n",
        "    list: A list of book titles by the specified author.\n",
        "    \"\"\"\n",
        "    # Write code here\n",
        "def find_books_by_author(inventory, author):\n",
        "  list_of_books_by_author = []                                     #  Creating an empty list that will be constantly updated as the tracker looks out for a specific book\n",
        "  for title, details in inventory.items():                         #  This loops through the keys and values of each book in the inventory until if finds a title that corresponds to the author\n",
        "    if details['author'] == author:\n",
        "      book_desc = {'title': title, **details}                      #  Can also say book_desc = {'title': title, 'details': details}  OR book_desc = {'title': title} / book_desc.update(details)\n",
        "      list_of_books_by_author.append(book_desc)                    #  After confirming the author matches all its details, the .append method adds all the books that are produced by the author.\n",
        "  return list_of_books_by_author"
      ],
      "metadata": {
        "id": "Vx1K3SEkDc1_"
      },
      "execution_count": 65,
      "outputs": []
    },
    {
      "cell_type": "code",
      "source": [
        "# Test for find_books_by_author\n",
        "books_by_author = find_books_by_author(inventory, 'George Orwell')\n",
        "print(books_by_author)  # Should print an empty list since '1984' was removed"
      ],
      "metadata": {
        "id": "GpTnEGjtEXTg",
        "colab": {
          "base_uri": "https://localhost:8080/"
        },
        "outputId": "e4f2adb9-ae61-4e7f-ac01-62af59f95904"
      },
      "execution_count": 66,
      "outputs": [
        {
          "output_type": "stream",
          "name": "stdout",
          "text": [
            "[]\n"
          ]
        }
      ]
    },
    {
      "cell_type": "markdown",
      "source": [
        "### Calculate Total value function\n",
        "\n",
        "   - **Function**: `calculate_total_value(inventory)`\n",
        "   - **Description**: Calculates and returns the total value of all books in the inventory.\n",
        "   - **Arguments**: `inventory`: A dictionary representing the existing inventory.\n",
        "   - **Return**: Total value (float)\n",
        "   - **Example**:\n",
        "     ```python\n",
        "     total_value = calculate_total_value(inventory)\n",
        "     ```\n",
        "\n",
        "The test calculates the total value of the inventory and prints it to verify the total value calculation."
      ],
      "metadata": {
        "id": "iWeUP2tmEZjR"
      }
    },
    {
      "cell_type": "code",
      "source": [
        "def calculate_total_value(inventory):\n",
        "    \"\"\"\n",
        "    Calculates and returns the total value of all books in the inventory.\n",
        "\n",
        "    Parameters:\n",
        "    inventory (dict): The existing inventory dictionary.\n",
        "\n",
        "    Returns:\n",
        "    float: The total value of all books.\n",
        "    \"\"\"\n",
        "    # Write code here\n",
        "def calculate_total_value(inventory):\n",
        "  total_value = 0.00                                            # This initializes the total value to zero so as to increment the value at each item\n",
        "  for details in inventory.values():\n",
        "    total_value += details['price'] * details['stock']          # The line of code that instructs the function to multiply the prices of each book by their respective numbers in stock\n",
        "  return total_value"
      ],
      "metadata": {
        "id": "FqHpeyzmDedv"
      },
      "execution_count": 67,
      "outputs": []
    },
    {
      "cell_type": "code",
      "source": [
        "# Test for calculate_total_value\n",
        "total_value = calculate_total_value(inventory)\n",
        "print(total_value)  # Should print the total value of the inventory"
      ],
      "metadata": {
        "id": "AlR-0HAYEb5G",
        "colab": {
          "base_uri": "https://localhost:8080/"
        },
        "outputId": "16cf7258-d1ac-47f3-d983-7746b810b198"
      },
      "execution_count": 68,
      "outputs": [
        {
          "output_type": "stream",
          "name": "stdout",
          "text": [
            "959.3699999999999\n"
          ]
        }
      ]
    },
    {
      "cell_type": "markdown",
      "source": [
        "### Display all genres function\n",
        "\n",
        "   - **Function**: `display_all_genres(inventory)`\n",
        "   - **Description**: Returns a set of all unique genres in the inventory.\n",
        "   - **Arguments**: `inventory`: A dictionary representing the existing inventory.\n",
        "   - **Return**: A set of unique genres\n",
        "   - **Example**:\n",
        "     ```python\n",
        "     genres = display_all_genres(inventory)\n",
        "     ```\n",
        "\n",
        "The test displays all unique genres in the inventory and prints the result to verify the set of unique genres."
      ],
      "metadata": {
        "id": "olDjDpkREdcn"
      }
    },
    {
      "cell_type": "code",
      "source": [
        "def display_all_genres(inventory):\n",
        "    \"\"\"\n",
        "    Returns a set of all unique genres in the inventory.\n",
        "\n",
        "    Parameters:\n",
        "    inventory (dict): The existing inventory dictionary.\n",
        "\n",
        "    Returns:\n",
        "    set: A set of unique genres.\n",
        "    \"\"\"\n",
        "    # Write code here\n",
        "def display_all_genres(inventory):                    # Can simply be written as: def dispaly_all_genres(inventory): / return {details['genre'] for details in inventory}. Just 2 simple lines of code!\n",
        "  genres = set()                                      # To create a unique set of genres without any duplication\n",
        "  for details in inventory.values():\n",
        "    genres.add(details['genre'])\n",
        "  return genres"
      ],
      "metadata": {
        "id": "L8VSJPb5Dfwe"
      },
      "execution_count": 69,
      "outputs": []
    },
    {
      "cell_type": "code",
      "source": [
        "# Test for display_all_genres\n",
        "genres = display_all_genres(inventory)\n",
        "print(genres)  # Should print the set of unique genres in the inventory"
      ],
      "metadata": {
        "id": "Rqa-gefbEg0A",
        "colab": {
          "base_uri": "https://localhost:8080/"
        },
        "outputId": "72cea71d-a348-481c-a9fd-639abadc5c12"
      },
      "execution_count": 70,
      "outputs": [
        {
          "output_type": "stream",
          "name": "stdout",
          "text": [
            "{'Fantasy', 'Biography', 'Romance', 'Science Fiction', 'Mystery', 'Historical Fiction', 'Self-Help', 'Fiction'}\n"
          ]
        }
      ]
    }
  ]
}