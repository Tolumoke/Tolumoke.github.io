{
  "nbformat": 4,
  "nbformat_minor": 0,
  "metadata": {
    "colab": {
      "provenance": [],
      "include_colab_link": true
    },
    "kernelspec": {
      "name": "python3",
      "display_name": "Python 3"
    },
    "language_info": {
      "name": "python"
    }
  },
  "cells": [
    {
      "cell_type": "markdown",
      "metadata": {
        "id": "view-in-github",
        "colab_type": "text"
      },
      "source": [
        "<a href=\"https://colab.research.google.com/github/Tolumoke/Tolumoke.github.io/blob/main/Practice_Set_2.ipynb\" target=\"_parent\"><img src=\"https://colab.research.google.com/assets/colab-badge.svg\" alt=\"Open In Colab\"/></a>"
      ]
    },
    {
      "cell_type": "markdown",
      "source": [
        "Write a Python function that takes a user's name, age, and favorite color as input and prints a formatted sentence: \"Hello, [name]! You are [age] years old and your favorite color is [color].\""
      ],
      "metadata": {
        "id": "lQ21JqrfueHN"
      }
    },
    {
      "cell_type": "code",
      "source": [
        "def your_details(name, age, color):\n",
        "  return f\"Hello,{name}! You are {age} years old and your favorite color is {color}.\"\n",
        "\n",
        "your_details(\"Tunde\", 92, \"green\")"
      ],
      "metadata": {
        "id": "atnSQZNHujrN",
        "colab": {
          "base_uri": "https://localhost:8080/",
          "height": 35
        },
        "outputId": "fcc396a2-c402-45c0-a938-2459960e2578"
      },
      "execution_count": 3,
      "outputs": [
        {
          "output_type": "execute_result",
          "data": {
            "text/plain": [
              "'Hello,Tunde! You are 92 years old and your favorite color is green.'"
            ],
            "application/vnd.google.colaboratory.intrinsic+json": {
              "type": "string"
            }
          },
          "metadata": {},
          "execution_count": 3
        }
      ]
    },
    {
      "cell_type": "markdown",
      "source": [
        "Create a Python function that calculates the compound interest for a principal amount, interest rate, and time period (given as arguments to the function). Use the formula:\n",
        "\n",
        "$V=P\\left(1+{\\frac {r}{n}}\\right)^{nt}$\n",
        "\n",
        "where P is the principal amount, r is the annual interest rate, n is the number of times interest is compounded per year, and t is the number of years. Print the final amount."
      ],
      "metadata": {
        "id": "3IrZsxZ_uj7N"
      }
    },
    {
      "cell_type": "code",
      "source": [
        "def compound_interest(**V):\n",
        "  P = V['P']\n",
        "  r = V['r']\n",
        "  n = V['n']\n",
        "  t = V['t']\n",
        "  return P * (1 + r/n)**(n*t)\n",
        "\n",
        "compound_interest(P = 23, r = 10, n = 12, t = 5)"
      ],
      "metadata": {
        "id": "2CFYa7uCuyUZ",
        "colab": {
          "base_uri": "https://localhost:8080/"
        },
        "outputId": "789c4d14-7791-447b-ae0a-0586900397e4"
      },
      "execution_count": 11,
      "outputs": [
        {
          "output_type": "execute_result",
          "data": {
            "text/plain": [
              "1.4328935326331843e+17"
            ]
          },
          "metadata": {},
          "execution_count": 11
        }
      ]
    },
    {
      "cell_type": "markdown",
      "source": [
        "Write a function that takes a word from the user and counts the number of vowels (a, e, i, o, u) in the word."
      ],
      "metadata": {
        "id": "1VYzGzq9vLyd"
      }
    },
    {
      "cell_type": "code",
      "source": [
        "def filter_vowels(word):\n",
        "    vowels = [\"a\", \"e\", \"i\", \"o\", \"u\"]\n",
        "    count = 0\n",
        "    for letter in word:\n",
        "        if letter in vowels:\n",
        "            count += 1\n",
        "    return count\n",
        "\n",
        "filter_vowels(\"Alalubarika Obinrin\")\n"
      ],
      "metadata": {
        "id": "7MKROtfTvjwe",
        "colab": {
          "base_uri": "https://localhost:8080/"
        },
        "outputId": "443fa25b-aeba-4fef-cfe3-234a600bfe5b"
      },
      "execution_count": 19,
      "outputs": [
        {
          "output_type": "execute_result",
          "data": {
            "text/plain": [
              "7"
            ]
          },
          "metadata": {},
          "execution_count": 19
        }
      ]
    },
    {
      "cell_type": "markdown",
      "source": [
        "Create a Python function that takes a list of numbers and prints \"even\" or \"odd\" for each number in the list. Additionally, if a number is prime, it should print \"prime\" instead."
      ],
      "metadata": {
        "id": "s5MvIklpvp2-"
      }
    },
    {
      "cell_type": "code",
      "source": [
        "import math\n",
        "def even_odd_prime(*numbers):\n",
        "  for num in numbers:\n",
        "    if num > 1:\n",
        "      is_prime = True\n",
        "      for i in range(2, int(math.sqrt(num)) + 1):\n",
        "        if (num % i) == 0:\n",
        "          is_prime = False\n",
        "          break\n",
        "      if is_prime:\n",
        "        print(f\"{num} is prime\")\n",
        "      elif num % 2 == 0:\n",
        "        print(f\"{num} is even\")\n",
        "      else:\n",
        "        print(f\"{num} is odd\")\n",
        "    elif num == 1:\n",
        "        print(f\"{num} is odd\")\n",
        "    else:\n",
        "      print(f\"{num} is not a positive integer greater than 1\")\n",
        "\n",
        "even_odd_prime(20, 1, 29, 4, 2, -4, 3, 5, 7, 9, 13)"
      ],
      "metadata": {
        "id": "KfPO5ql9vqyO",
        "colab": {
          "base_uri": "https://localhost:8080/"
        },
        "outputId": "cbe85d04-0591-4b03-daf4-43820b1bd0ea"
      },
      "execution_count": 41,
      "outputs": [
        {
          "output_type": "stream",
          "name": "stdout",
          "text": [
            "20 is even\n",
            "1 is odd\n",
            "29 is prime\n",
            "4 is even\n",
            "2 is prime\n",
            "-4 is not a positive integer greater than 1\n",
            "3 is prime\n",
            "5 is prime\n",
            "7 is prime\n",
            "9 is odd\n",
            "13 is prime\n"
          ]
        }
      ]
    },
    {
      "cell_type": "markdown",
      "source": [
        "Create a dictionary representing a simple address book where keys are names and values are another dictionary with keys phone, email, and address."
      ],
      "metadata": {
        "id": "BsPCEBktv-xl"
      }
    },
    {
      "cell_type": "code",
      "source": [
        "def address_book(**address):\n",
        "  return address\n",
        "\n",
        "address_book(name={\"phone\": \"07062637972\", \"email\": \"olaisrael.official@gmail.com\", \"address\": \"Mabushi\"})"
      ],
      "metadata": {
        "id": "65EPdCrpw3xe",
        "colab": {
          "base_uri": "https://localhost:8080/"
        },
        "outputId": "6acdbc85-8525-415e-d9d3-d7468df75ce5"
      },
      "execution_count": 36,
      "outputs": [
        {
          "output_type": "execute_result",
          "data": {
            "text/plain": [
              "{'name': {'phone': '07062637972',\n",
              "  'email': 'olaisrael.official@gmail.com',\n",
              "  'address': 'Mabushi'}}"
            ]
          },
          "metadata": {},
          "execution_count": 36
        }
      ]
    },
    {
      "cell_type": "code",
      "source": [],
      "metadata": {
        "id": "BJ-CzVc7mPuv"
      },
      "execution_count": null,
      "outputs": []
    }
  ]
}