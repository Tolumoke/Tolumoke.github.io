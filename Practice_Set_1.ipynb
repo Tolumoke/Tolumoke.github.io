{
  "nbformat": 4,
  "nbformat_minor": 0,
  "metadata": {
    "colab": {
      "provenance": [],
      "include_colab_link": true
    },
    "kernelspec": {
      "name": "python3",
      "display_name": "Python 3"
    },
    "language_info": {
      "name": "python"
    }
  },
  "cells": [
    {
      "cell_type": "markdown",
      "metadata": {
        "id": "view-in-github",
        "colab_type": "text"
      },
      "source": [
        "<a href=\"https://colab.research.google.com/github/Tolumoke/Tolumoke.github.io/blob/main/Practice_Set_1.ipynb\" target=\"_parent\"><img src=\"https://colab.research.google.com/assets/colab-badge.svg\" alt=\"Open In Colab\"/></a>"
      ]
    },
    {
      "cell_type": "markdown",
      "source": [
        "Write a Python program to print the following sentence: \"Python programming is fun!\""
      ],
      "metadata": {
        "id": "dxH1gm-js0a1"
      }
    },
    {
      "cell_type": "code",
      "source": [
        "print(\"Python programming is fun\")"
      ],
      "metadata": {
        "id": "7P2b_JFCtFfG",
        "colab": {
          "base_uri": "https://localhost:8080/"
        },
        "outputId": "171358ff-9cb1-4e8f-d50e-8dda128745ed"
      },
      "execution_count": 1,
      "outputs": [
        {
          "output_type": "stream",
          "name": "stdout",
          "text": [
            "Python programming is fun\n"
          ]
        }
      ]
    },
    {
      "cell_type": "markdown",
      "source": [
        "Create a variable name and assign it your name as a string. Print \"Hello, my name is name!\""
      ],
      "metadata": {
        "id": "mQWlC_gms3ll"
      }
    },
    {
      "cell_type": "code",
      "source": [
        "name = \"Tolumoke\"\n",
        "print(f\"Hello, my name is {name}!\")"
      ],
      "metadata": {
        "id": "tzoIO_8ftF3e",
        "colab": {
          "base_uri": "https://localhost:8080/"
        },
        "outputId": "b35fffc5-e253-4b33-fd02-1c9b60ef536e"
      },
      "execution_count": 53,
      "outputs": [
        {
          "output_type": "stream",
          "name": "stdout",
          "text": [
            "Hello, my name is Tolumoke!\n"
          ]
        }
      ]
    },
    {
      "cell_type": "markdown",
      "source": [
        "Write a Python program to calculate the sum of 123 and 456 and print the result."
      ],
      "metadata": {
        "id": "uO2vr0d5s37n"
      }
    },
    {
      "cell_type": "code",
      "source": [
        "result = 123 + 456\n",
        "print(result)"
      ],
      "metadata": {
        "id": "41gMrrBLtGQ-",
        "colab": {
          "base_uri": "https://localhost:8080/"
        },
        "outputId": "447b0e3a-7512-495a-c2e4-d390577a8769"
      },
      "execution_count": 45,
      "outputs": [
        {
          "output_type": "stream",
          "name": "stdout",
          "text": [
            "579\n"
          ]
        }
      ]
    },
    {
      "cell_type": "markdown",
      "source": [
        "Create two variables a and b with values 20 and 10 respectively. Print the result of their multiplication."
      ],
      "metadata": {
        "id": "jZ8jXsfTs5U9"
      }
    },
    {
      "cell_type": "code",
      "source": [
        "a = 20\n",
        "b = 10\n",
        "product = a * b\n",
        "print(product)"
      ],
      "metadata": {
        "id": "_cWBy56ftGpd",
        "colab": {
          "base_uri": "https://localhost:8080/"
        },
        "outputId": "a17dea7e-c9b3-4637-e894-eb809f8c47b4"
      },
      "execution_count": 5,
      "outputs": [
        {
          "output_type": "stream",
          "name": "stdout",
          "text": [
            "200\n"
          ]
        }
      ]
    },
    {
      "cell_type": "markdown",
      "source": [
        "Create a variable age and assign it your age. Print a sentence stating your age using an f-string."
      ],
      "metadata": {
        "id": "vT9p_XXws6zN"
      }
    },
    {
      "cell_type": "code",
      "source": [
        "age = 21\n",
        "print(f\"I'm {age} years old\")"
      ],
      "metadata": {
        "id": "1sA0KvectHGY",
        "colab": {
          "base_uri": "https://localhost:8080/"
        },
        "outputId": "f5cc5b74-5b1c-419d-cc04-b999ad61199e"
      },
      "execution_count": 6,
      "outputs": [
        {
          "output_type": "stream",
          "name": "stdout",
          "text": [
            "I'm 21 years old\n"
          ]
        }
      ]
    },
    {
      "cell_type": "markdown",
      "source": [
        "Create a variable salary and assign it a value. Calculate a 10% bonus of the salary and print the final amount after adding the bonus to the original salary."
      ],
      "metadata": {
        "id": "mVKewXUls7gO"
      }
    },
    {
      "cell_type": "code",
      "source": [
        "salary = 25000\n",
        "bonus = 0.1 * salary\n",
        "gross_salary = salary + bonus\n",
        "print(gross_salary)"
      ],
      "metadata": {
        "id": "8FNCc2lEtHjt",
        "colab": {
          "base_uri": "https://localhost:8080/"
        },
        "outputId": "f88e22a5-5f72-4510-cafa-3ceaf79ce458"
      },
      "execution_count": 7,
      "outputs": [
        {
          "output_type": "stream",
          "name": "stdout",
          "text": [
            "27500.0\n"
          ]
        }
      ]
    },
    {
      "cell_type": "markdown",
      "source": [
        "Create a list of your five favorite fruits. Write a for loop to print each fruit in the list"
      ],
      "metadata": {
        "id": "JA2mbazUs8VN"
      }
    },
    {
      "cell_type": "code",
      "source": [
        "favorite_fruits = ['apple', 'orange', 'mango', 'banana', 'guava']\n",
        "for fruit in favorite_fruits:\n",
        "  print(fruit)"
      ],
      "metadata": {
        "id": "fAAZdZXztILt",
        "colab": {
          "base_uri": "https://localhost:8080/"
        },
        "outputId": "61c7e02b-6c57-4792-a5f1-bd62a49f08fc"
      },
      "execution_count": 8,
      "outputs": [
        {
          "output_type": "stream",
          "name": "stdout",
          "text": [
            "apple\n",
            "orange\n",
            "mango\n",
            "banana\n",
            "guava\n"
          ]
        }
      ]
    },
    {
      "cell_type": "markdown",
      "source": [
        "Create a list of five numbers. Write a Python program to calculate and print the sum of these numbers using a for loop."
      ],
      "metadata": {
        "id": "625Nxz2Bs9J_"
      }
    },
    {
      "cell_type": "code",
      "source": [
        "numbers = [12, 2, 9, 3, 6]\n",
        "list_sum = 0\n",
        "for number in numbers:\n",
        "  list_sum = list_sum + number\n",
        " # or say: list_sum += number\n",
        "print(list_sum)"
      ],
      "metadata": {
        "id": "yW_VPQBAtIpd",
        "colab": {
          "base_uri": "https://localhost:8080/"
        },
        "outputId": "222310d5-0711-4acf-ac61-2569f937bff6"
      },
      "execution_count": 11,
      "outputs": [
        {
          "output_type": "stream",
          "name": "stdout",
          "text": [
            "32\n"
          ]
        }
      ]
    },
    {
      "cell_type": "markdown",
      "source": [
        "Write a Python program that checks if a number stored in the variable num is positive, negative, or zero and prints an appropriate message."
      ],
      "metadata": {
        "id": "gc6nwpoEs98t"
      }
    },
    {
      "cell_type": "code",
      "source": [
        "num = 0\n",
        "if num > 0:\n",
        "  print(\"This is a positive number\")\n",
        "elif num < 0:\n",
        "  print(\"This is a negative number\")\n",
        "else:\n",
        "  print(\"This is zero\")"
      ],
      "metadata": {
        "id": "SvtCr0tOtJFV",
        "colab": {
          "base_uri": "https://localhost:8080/"
        },
        "outputId": "973d2de8-b35e-42e5-bc09-b0e57aeaeed5"
      },
      "execution_count": 16,
      "outputs": [
        {
          "output_type": "stream",
          "name": "stdout",
          "text": [
            "This is zero\n"
          ]
        }
      ]
    },
    {
      "cell_type": "markdown",
      "source": [
        "Write a Python program that takes a variable grade and prints \"Pass\" if the grade is 50 or higher and \"Fail\" otherwise."
      ],
      "metadata": {
        "id": "lt58m57fs-rF"
      }
    },
    {
      "cell_type": "code",
      "source": [
        "grade = 88\n",
        "if grade >= 50:\n",
        "  print(\"Pass\")\n",
        "else:\n",
        "  print(\"Fail\")"
      ],
      "metadata": {
        "id": "kw2FWA7ctJo9",
        "colab": {
          "base_uri": "https://localhost:8080/"
        },
        "outputId": "02c730dc-2ae7-45c0-de2e-4e6057679925"
      },
      "execution_count": 20,
      "outputs": [
        {
          "output_type": "stream",
          "name": "stdout",
          "text": [
            "Pass\n"
          ]
        }
      ]
    },
    {
      "cell_type": "markdown",
      "source": [
        "Create a dictionary named student with keys name, age, and grade. Assign appropriate values to these keys. Print the dictionary."
      ],
      "metadata": {
        "id": "bIispBbcs_qF"
      }
    },
    {
      "cell_type": "code",
      "source": [
        "student = {\"name\": \"Tolumoke\", \"age\": 21, \"grade\": \"A\"}\n",
        "print(student)"
      ],
      "metadata": {
        "id": "em_0bfj_tJ89",
        "colab": {
          "base_uri": "https://localhost:8080/"
        },
        "outputId": "e1beaafc-462e-4779-f484-7b26b12557fb"
      },
      "execution_count": 42,
      "outputs": [
        {
          "output_type": "stream",
          "name": "stdout",
          "text": [
            "{'name': 'Tolumoke', 'age': 21, 'grade': 'A'}\n"
          ]
        }
      ]
    },
    {
      "cell_type": "markdown",
      "source": [
        "Update the grade value in the student dictionary and print the updated dictionary."
      ],
      "metadata": {
        "id": "UgJ-5AintAR2"
      }
    },
    {
      "cell_type": "code",
      "source": [
        "student[\"Grade\"] = \"C\"\n",
        "print(student)"
      ],
      "metadata": {
        "id": "5x2gj0g2tKVe",
        "colab": {
          "base_uri": "https://localhost:8080/"
        },
        "outputId": "0ff21f1f-714e-4c7c-e116-0d51e967fad1"
      },
      "execution_count": 26,
      "outputs": [
        {
          "output_type": "stream",
          "name": "stdout",
          "text": [
            "{'Name': 'Wale', 'Age': 72, 'Grade': 'C'}\n"
          ]
        }
      ]
    },
    {
      "cell_type": "markdown",
      "source": [
        "Create a tuple named dimensions with three elements representing the length, width, and height of a box. Print the second element of the tuple."
      ],
      "metadata": {
        "id": "5qvWr4GStBJv"
      }
    },
    {
      "cell_type": "code",
      "source": [
        "dimensions = (3, 1, 9)\n",
        "print(dimensions[1])"
      ],
      "metadata": {
        "id": "vK8ZhIo4tKr1",
        "colab": {
          "base_uri": "https://localhost:8080/"
        },
        "outputId": "a14b1410-0a6e-4dfe-a430-67ba633d5edd"
      },
      "execution_count": 27,
      "outputs": [
        {
          "output_type": "stream",
          "name": "stdout",
          "text": [
            "1\n"
          ]
        }
      ]
    },
    {
      "cell_type": "markdown",
      "source": [
        "Create a set named colors with elements \"red\", \"green\", and \"blue\". Add the color \"yellow\" to the set and print the updated set."
      ],
      "metadata": {
        "id": "d7LBWpTZtCUl"
      }
    },
    {
      "cell_type": "code",
      "source": [
        "colors = {\"red\", \"green\", \"blue\"}\n",
        "colors.add(\"yellow\")\n",
        "print(colors)"
      ],
      "metadata": {
        "id": "VqGOkhaHtLE9",
        "colab": {
          "base_uri": "https://localhost:8080/"
        },
        "outputId": "aa0896f3-f109-4b44-806d-9e0e430198cf"
      },
      "execution_count": 33,
      "outputs": [
        {
          "output_type": "stream",
          "name": "stdout",
          "text": [
            "{'red', 'yellow', 'green', 'blue'}\n"
          ]
        }
      ]
    },
    {
      "cell_type": "markdown",
      "source": [
        "Write a function named greet that takes a name as an argument and prints \"Hello, name!\". Call this function with your name."
      ],
      "metadata": {
        "id": "i_10n3AgtDMG"
      }
    },
    {
      "cell_type": "code",
      "source": [
        "def greet(name):\n",
        "  print(f\"Hello,{name}\")\n",
        "\n",
        "greet(\"Tolumoke\")"
      ],
      "metadata": {
        "id": "4ZHIm1C4tLcd",
        "colab": {
          "base_uri": "https://localhost:8080/"
        },
        "outputId": "987d7b3f-fc6e-4f58-a8fb-2f47b8517227"
      },
      "execution_count": 40,
      "outputs": [
        {
          "output_type": "stream",
          "name": "stdout",
          "text": [
            "Hello,Tolumoke\n"
          ]
        }
      ]
    },
    {
      "cell_type": "markdown",
      "source": [
        "Write a function named calculate_area that takes the radius of a circle as an argument and returns the area of the circle. Use this function to calculate and print the area of a circle with a radius of 5."
      ],
      "metadata": {
        "id": "mBK4Or7UtECV"
      }
    },
    {
      "cell_type": "code",
      "source": [
        "def calculate_area(radius):\n",
        "  area = 3.14 * radius ** 2\n",
        "  return area\n",
        "\n",
        "calculate_area(5)"
      ],
      "metadata": {
        "id": "UknlI32_tLwV",
        "colab": {
          "base_uri": "https://localhost:8080/"
        },
        "outputId": "c9914d7b-6e81-4667-e865-8b0cf3bbe69c"
      },
      "execution_count": 39,
      "outputs": [
        {
          "output_type": "execute_result",
          "data": {
            "text/plain": [
              "78.5"
            ]
          },
          "metadata": {},
          "execution_count": 39
        }
      ]
    },
    {
      "cell_type": "code",
      "source": [],
      "metadata": {
        "id": "WCnFSoRd6x8t"
      },
      "execution_count": null,
      "outputs": []
    }
  ]
}